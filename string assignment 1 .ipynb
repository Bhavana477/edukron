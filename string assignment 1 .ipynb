{
 "cells": [
  {
   "cell_type": "code",
   "execution_count": 1,
   "id": "d5050aae",
   "metadata": {},
   "outputs": [
    {
     "data": {
      "text/plain": [
       "'gnimmargorP nohtyP'"
      ]
     },
     "execution_count": 1,
     "metadata": {},
     "output_type": "execute_result"
    }
   ],
   "source": [
    "# Question 1: Reverse the string \"Python Programming\"\n",
    "string = \"Python Programming\"\n",
    "string[::-1]"
   ]
  },
  {
   "cell_type": "code",
   "execution_count": 2,
   "id": "6b1b148a",
   "metadata": {},
   "outputs": [
    {
     "name": "stdout",
     "output_type": "stream",
     "text": [
      "it is a palidrome\n"
     ]
    }
   ],
   "source": [
    "# Question 2: Check if \"racecar\" is a palindrome\n",
    "word = 'racecar'\n",
    "if word == word[::-1]:\n",
    "    print(\"it is a palidrome\")\n",
    "else:\n",
    "    print(\"it is not a palidrome\")"
   ]
  },
  {
   "cell_type": "code",
   "execution_count": 9,
   "id": "64995423",
   "metadata": {},
   "outputs": [
    {
     "data": {
      "text/plain": [
       "6"
      ]
     },
     "execution_count": 9,
     "metadata": {},
     "output_type": "execute_result"
    }
   ],
   "source": [
    "# Question 3: Count the number of words in \"Python is a great programming language\"\n",
    "x = \"Python is a great programming language\"\n",
    "len(x.split())"
   ]
  },
  {
   "cell_type": "code",
   "execution_count": 7,
   "id": "7ca54385",
   "metadata": {},
   "outputs": [
    {
     "data": {
      "text/plain": [
       "'Hello World'"
      ]
     },
     "execution_count": 7,
     "metadata": {},
     "output_type": "execute_result"
    }
   ],
   "source": [
    "# Question 4: Convert \"hello world\" to title case\n",
    "x= \"hello world\"\n",
    "x.title()"
   ]
  },
  {
   "cell_type": "code",
   "execution_count": 6,
   "id": "44b2a1be",
   "metadata": {},
   "outputs": [
    {
     "data": {
      "text/plain": [
       "12"
      ]
     },
     "execution_count": 6,
     "metadata": {},
     "output_type": "execute_result"
    }
   ],
   "source": [
    "# Question 5: Find the length of string \"Data Science\"\n",
    "x= \"Data Science\"\n",
    "len(x)"
   ]
  },
  {
   "cell_type": "code",
   "execution_count": 1,
   "id": "8fba1791",
   "metadata": {},
   "outputs": [
    {
     "data": {
      "text/plain": [
       "'Machine_Learning'"
      ]
     },
     "execution_count": 1,
     "metadata": {},
     "output_type": "execute_result"
    }
   ],
   "source": [
    "# Question 6: Replace all spaces with underscores in \"Machine Learning\"\n",
    "x = \"Machine Learning\"\n",
    "x.replace(' ', '_')"
   ]
  },
  {
   "cell_type": "code",
   "execution_count": 2,
   "id": "3c4c41bf",
   "metadata": {},
   "outputs": [
    {
     "name": "stdout",
     "output_type": "stream",
     "text": [
      "True\n"
     ]
    }
   ],
   "source": [
    "# Question 7: Check if \"python\" is in \"Python Programming Language\"\n",
    "x = \"Python Programming Language\"\n",
    "print('Python' in x)"
   ]
  },
  {
   "cell_type": "code",
   "execution_count": 3,
   "id": "7af71acc",
   "metadata": {},
   "outputs": [
    {
     "data": {
      "text/plain": [
       "'Artifi'"
      ]
     },
     "execution_count": 3,
     "metadata": {},
     "output_type": "execute_result"
    }
   ],
   "source": [
    "# Question 8: Extract the first 5 characters from \"Artificial Intelligence\"\n",
    "x = \"Artificial Intelligence\"\n",
    "x[0:6]"
   ]
  },
  {
   "cell_type": "code",
   "execution_count": 4,
   "id": "a8075883",
   "metadata": {},
   "outputs": [
    {
     "data": {
      "text/plain": [
       "'uppercase'"
      ]
     },
     "execution_count": 4,
     "metadata": {},
     "output_type": "execute_result"
    }
   ],
   "source": [
    "# Question 9: Convert \"UPPERCASE\" to lowercase\n",
    "a = 'UPPERCASE'\n",
    "a.swapcase()"
   ]
  },
  {
   "cell_type": "code",
   "execution_count": 5,
   "id": "abbb01e2",
   "metadata": {},
   "outputs": [
    {
     "name": "stdout",
     "output_type": "stream",
     "text": [
      "Cmptr Scnc\n"
     ]
    }
   ],
   "source": [
    "# Question 10: Remove all vowels from \"Computer Science\"\n",
    "a = \"Computer Science\"\n",
    "vowels = 'aeiouAEIOU'\n",
    "result = ''.join(i for i in a if i not in vowels)\n",
    "print(result)"
   ]
  },
  {
   "cell_type": "code",
   "execution_count": 6,
   "id": "f7cfba48",
   "metadata": {},
   "outputs": [
    {
     "name": "stdout",
     "output_type": "stream",
     "text": [
      "i\n"
     ]
    }
   ],
   "source": [
    "# Question 11: Find the most frequent character in \"mississippi\"\n",
    "char = 'mississippi'\n",
    "frequ = {}\n",
    "for i in char:\n",
    "    frequ[i] = frequ.get(i,0)+1\n",
    "most_fre = max(frequ, key = frequ.get)\n",
    "print(most_fre)\n"
   ]
  },
  {
   "cell_type": "code",
   "execution_count": 7,
   "id": "c86f1b8f",
   "metadata": {},
   "outputs": [
    {
     "name": "stdout",
     "output_type": "stream",
     "text": [
      "yes it is same\n"
     ]
    }
   ],
   "source": [
    "# Question 12: Check if two strings are anagrams: \"listen\" and \"silent\"\n",
    "a = input()\n",
    "b = input()\n",
    "\n",
    "if sorted(a) == sorted(b):\n",
    "    print('yes it is same')\n",
    "else:\n",
    "    print('it is not same')\n",
    "\n",
    "\n"
   ]
  },
  {
   "cell_type": "code",
   "execution_count": 54,
   "id": "357c87f6",
   "metadata": {},
   "outputs": [
    {
     "data": {
      "text/plain": [
       "'Python Programming Language'"
      ]
     },
     "execution_count": 54,
     "metadata": {},
     "output_type": "execute_result"
    }
   ],
   "source": [
    "# Question 13: Capitalize first letter of each word in \"python programming language\"\n",
    "x = \"python programming language\"\n",
    "x.title()"
   ]
  },
  {
   "cell_type": "code",
   "execution_count": 53,
   "id": "1c8ccd41",
   "metadata": {},
   "outputs": [
    {
     "data": {
      "text/plain": [
       "8"
      ]
     },
     "execution_count": 53,
     "metadata": {},
     "output_type": "execute_result"
    }
   ],
   "source": [
    "# Question 14: Count consonants in \"Hello World\"\n",
    "x = \"Hello World\"\n",
    "vowels = 'aeiouAEIOU'\n",
    "result = ''.join(i for i in x if i not in vowels)\n",
    "len(result)"
   ]
  },
  {
   "cell_type": "code",
   "execution_count": 52,
   "id": "46b2edcc",
   "metadata": {},
   "outputs": [
    {
     "data": {
      "text/plain": [
       "'programming'"
      ]
     },
     "execution_count": 52,
     "metadata": {},
     "output_type": "execute_result"
    }
   ],
   "source": [
    "# Question 15: Find the longest word in \"Python is a programming language\"\n",
    "x = \"Python is a programming language\"\n",
    "max(x.split(), key = len)"
   ]
  },
  {
   "cell_type": "code",
   "execution_count": null,
   "id": "86d7c31e",
   "metadata": {},
   "outputs": [],
   "source": [
    "# Question 16: Remove all punctuation from \"Hello, World! How are you?\"\n"
   ]
  },
  {
   "cell_type": "code",
   "execution_count": 51,
   "id": "5ba1adfb",
   "metadata": {},
   "outputs": [
    {
     "data": {
      "text/plain": [
       "True"
      ]
     },
     "execution_count": 51,
     "metadata": {},
     "output_type": "execute_result"
    }
   ],
   "source": [
    "# Question 17: Check if string starts with \"Python\"\n",
    "x= 'Python'\n",
    "x.startswith('Python')\n"
   ]
  },
  {
   "cell_type": "code",
   "execution_count": 50,
   "id": "1981d973",
   "metadata": {},
   "outputs": [
    {
     "data": {
      "text/plain": [
       "4"
      ]
     },
     "execution_count": 50,
     "metadata": {},
     "output_type": "execute_result"
    }
   ],
   "source": [
    "# Question 18: Find the index of first occurrence of 'o' in \"Hello World\"\n",
    "x = \"Hello World\"\n",
    "x.index('o')\n"
   ]
  },
  {
   "cell_type": "code",
   "execution_count": 12,
   "id": "1fd26850",
   "metadata": {},
   "outputs": [
    {
     "data": {
      "text/plain": [
       "['apple', 'banana', 'orange']"
      ]
     },
     "execution_count": 12,
     "metadata": {},
     "output_type": "execute_result"
    }
   ],
   "source": [
    "# Question 19: Split string \"apple,banana,orange\" by comma\n",
    "var = \"apple,banana,orange\"\n",
    "var.split(',')"
   ]
  },
  {
   "cell_type": "code",
   "execution_count": 49,
   "id": "5ba03359",
   "metadata": {},
   "outputs": [
    {
     "data": {
      "text/plain": [
       "'Python is awesome'"
      ]
     },
     "execution_count": 49,
     "metadata": {},
     "output_type": "execute_result"
    }
   ],
   "source": [
    "# Question 20: Join list ['Python', 'is', 'awesome'] with spaces\n",
    "char = ['Python', 'is', 'awesome']\n",
    "new = ' '.join(char)\n",
    "new\n"
   ]
  },
  {
   "cell_type": "code",
   "execution_count": 45,
   "id": "98546f2d",
   "metadata": {},
   "outputs": [
    {
     "data": {
      "text/plain": [
       "True"
      ]
     },
     "execution_count": 45,
     "metadata": {},
     "output_type": "execute_result"
    }
   ],
   "source": [
    "# Question 21: Check if string contains only digits: \"12345\"\n",
    "a = \"12345\"\n",
    "a.isdigit()"
   ]
  },
  {
   "cell_type": "code",
   "execution_count": 44,
   "id": "c215eeb2",
   "metadata": {},
   "outputs": [
    {
     "data": {
      "text/plain": [
       "True"
      ]
     },
     "execution_count": 44,
     "metadata": {},
     "output_type": "execute_result"
    }
   ],
   "source": [
    "# Question 22: Check if string contains only letters: \"HelloWorld\"\n",
    "x = \"HelloWorld\"\n",
    "x.isalpha()\n"
   ]
  },
  {
   "cell_type": "code",
   "execution_count": 43,
   "id": "225da418",
   "metadata": {},
   "outputs": [
    {
     "data": {
      "text/plain": [
       "'hElLo wOrLd'"
      ]
     },
     "execution_count": 43,
     "metadata": {},
     "output_type": "execute_result"
    }
   ],
   "source": [
    "# Question 23: Convert \"hello world\" to \"hElLo WoRlD\" (alternating case)\n",
    "new = \"hello world\"\n",
    "result = ''\n",
    "i = 0\n",
    "for x in new:\n",
    "    if i % 2 == 0:\n",
    "        result += x.lower()\n",
    "    else:\n",
    "        result += x.upper()\n",
    "    i += 1\n",
    "result"
   ]
  },
  {
   "cell_type": "code",
   "execution_count": 42,
   "id": "e6b33f63",
   "metadata": {},
   "outputs": [
    {
     "data": {
      "text/plain": [
       "[1, 3, 5]"
      ]
     },
     "execution_count": 42,
     "metadata": {},
     "output_type": "execute_result"
    }
   ],
   "source": [
    "# Question 24: Find all positions of 'a' in \"banana\"\n",
    "x = \"banana\"\n",
    "y = [i for i, val in enumerate(line) if val == 'a']\n",
    "y"
   ]
  },
  {
   "cell_type": "code",
   "execution_count": 18,
   "id": "c25225d8",
   "metadata": {},
   "outputs": [
    {
     "data": {
      "text/plain": [
       "'Hello World'"
      ]
     },
     "execution_count": 18,
     "metadata": {},
     "output_type": "execute_result"
    }
   ],
   "source": [
    "# Question 25: Remove leading and trailing whitespace from \"  Hello World  \"\n",
    "var = \"  Hello World  \"\n",
    "var.strip()"
   ]
  },
  {
   "cell_type": "code",
   "execution_count": 19,
   "id": "fdd849d4",
   "metadata": {},
   "outputs": [
    {
     "data": {
      "text/plain": [
       "True"
      ]
     },
     "execution_count": 19,
     "metadata": {},
     "output_type": "execute_result"
    }
   ],
   "source": [
    "# Question 26: Check if string ends with \"ing\": \"programming\"\n",
    "word = \"programming\"\n",
    "word.endswith('ing')"
   ]
  },
  {
   "cell_type": "code",
   "execution_count": 21,
   "id": "43253ccf",
   "metadata": {},
   "outputs": [
    {
     "data": {
      "text/plain": [
       "'Hell0 World'"
      ]
     },
     "execution_count": 21,
     "metadata": {},
     "output_type": "execute_result"
    }
   ],
   "source": [
    "# Question 27: Replace first occurrence of 'o' with '0' in \"Hello World\"\n",
    "var = \"Hello World\"\n",
    "var.replace('o', '0',1)"
   ]
  },
  {
   "cell_type": "code",
   "execution_count": 40,
   "id": "35625eb8",
   "metadata": {},
   "outputs": [
    {
     "data": {
      "text/plain": [
       "'a'"
      ]
     },
     "execution_count": 40,
     "metadata": {},
     "output_type": "execute_result"
    }
   ],
   "source": [
    "# Question 28: Find the shortest word in \"Python is a programming language\"\n",
    "x = \"Python is a programming language\"\n",
    "y= x.split()\n",
    "min(y, key = len)"
   ]
  },
  {
   "cell_type": "code",
   "execution_count": 23,
   "id": "26ed054f",
   "metadata": {},
   "outputs": [
    {
     "data": {
      "text/plain": [
       "2"
      ]
     },
     "execution_count": 23,
     "metadata": {},
     "output_type": "execute_result"
    }
   ],
   "source": [
    "# Question 29: Count words that start with 'p' in \"Python programming is powerful\"\n",
    "var = \"Python programming is powerful\"\n",
    "var.count('p')"
   ]
  },
  {
   "cell_type": "code",
   "execution_count": 24,
   "id": "bc0e3057",
   "metadata": {},
   "outputs": [
    {
     "data": {
      "text/plain": [
       "'nohtyP dlroW olleH'"
      ]
     },
     "execution_count": 24,
     "metadata": {},
     "output_type": "execute_result"
    }
   ],
   "source": [
    "# Question 30: Reverse words in \"Hello World Python\"\n",
    "char = \"Hello World Python\"\n",
    "char[::-1]"
   ]
  },
  {
   "cell_type": "code",
   "execution_count": 25,
   "id": "d4d9a27a",
   "metadata": {},
   "outputs": [
    {
     "data": {
      "text/plain": [
       "True"
      ]
     },
     "execution_count": 25,
     "metadata": {},
     "output_type": "execute_result"
    }
   ],
   "source": [
    "# Question 31: Check if string is a valid email format: \"user@example.com\"\n",
    "a = \"user@example.com\"\n",
    "a.endswith(\"@example.com\")"
   ]
  },
  {
   "cell_type": "code",
   "execution_count": 26,
   "id": "adf801ec",
   "metadata": {},
   "outputs": [
    {
     "data": {
      "text/plain": [
       "'com/path'"
      ]
     },
     "execution_count": 26,
     "metadata": {},
     "output_type": "execute_result"
    }
   ],
   "source": [
    "# Question 32: Extract domain from \"https://www.example.com/path\"\n",
    "a = \"https://www.example.com/path\"\n",
    "a.split('.')[2]"
   ]
  },
  {
   "cell_type": "code",
   "execution_count": 27,
   "id": "99cccfd5",
   "metadata": {},
   "outputs": [
    {
     "data": {
      "text/plain": [
       "5"
      ]
     },
     "execution_count": 27,
     "metadata": {},
     "output_type": "execute_result"
    }
   ],
   "source": [
    "# Question 33: Count lines in multi-line string\n",
    "text = \"\"\"Python is great\\n.\n",
    "It is easy to learn.\n",
    "It is widely used\n",
    "It is easy to learn.\n",
    "It is widely used.\"\"\"\n",
    "\n",
    "text.count('\\n')"
   ]
  },
  {
   "cell_type": "code",
   "execution_count": 28,
   "id": "9773c3bf",
   "metadata": {},
   "outputs": [
    {
     "data": {
      "text/plain": [
       "{'l', 'o'}"
      ]
     },
     "execution_count": 28,
     "metadata": {},
     "output_type": "execute_result"
    }
   ],
   "source": [
    "\n",
    "# Question 34: Find common characters between \"hello\" and \"world\"\n",
    "b = \"hello\" \n",
    "c = \"world\"\n",
    "resu = set(b)\n",
    "res = set(c)\n",
    "resu.intersection(res)"
   ]
  },
  {
   "cell_type": "code",
   "execution_count": 29,
   "id": "3b1dba8e",
   "metadata": {},
   "outputs": [
    {
     "name": "stdout",
     "output_type": "stream",
     "text": [
      "Valid phone number\n"
     ]
    }
   ],
   "source": [
    "# Question 35: Check if string is a valid phone number: \"+1-555-123-4567\"\n",
    "d = \"+1-555-123-4567\"\n",
    "parts = d.split('-')\n",
    "\n",
    "if (\n",
    "    len(parts) == 4 and\n",
    "    parts[0].startswith('+') and parts[0][1:].isdigit() and\n",
    "    parts[1].isdigit() and len(parts[1]) == 3 and\n",
    "    parts[2].isdigit() and len(parts[2]) == 3 and\n",
    "    parts[3].isdigit() and len(parts[3]) == 4\n",
    "):\n",
    "    print(\"Valid phone number\")\n",
    "else:\n",
    "    print(\"Invalid phone number\")"
   ]
  },
  {
   "cell_type": "code",
   "execution_count": 31,
   "id": "88216bd2",
   "metadata": {},
   "outputs": [],
   "source": [
    "# Question 36: Extract numbers from \"abc123def456ghi789\"\n",
    "text = \"abc123def456ghi789\"\n",
    "cleaned = ''.join(char if char.isdigit() else ' ' for char in text)"
   ]
  },
  {
   "cell_type": "code",
   "execution_count": 32,
   "id": "cd293846",
   "metadata": {},
   "outputs": [
    {
     "data": {
      "text/plain": [
       "True"
      ]
     },
     "execution_count": 32,
     "metadata": {},
     "output_type": "execute_result"
    }
   ],
   "source": [
    "# Question 38: Check if string is a valid palindrome ignoring case: \"A man a plan a canal Panama\"\n",
    "pol = \"A man a plan a canal Panama\"\n",
    "first = pol.replace(' ', '').lower()\n",
    "answer = first == first[::-1]\n",
    "answer"
   ]
  },
  {
   "cell_type": "code",
   "execution_count": 33,
   "id": "793fdb99",
   "metadata": {},
   "outputs": [
    {
     "name": "stdout",
     "output_type": "stream",
     "text": [
      "Most common word: the\n",
      "Count: 2\n"
     ]
    }
   ],
   "source": [
    "# Question 39: Find the most common word in \"the quick brown fox jumps over the lazy dog\"\n",
    "sentence = \"the quick brown fox jumps over the lazy dog\"\n",
    "words = sentence.split()\n",
    "\n",
    "# Create a dictionary to count each word\n",
    "word_count = {}\n",
    "\n",
    "for word in words:\n",
    "    if word in word_count:\n",
    "        word_count[word] += 1\n",
    "    else:\n",
    "        word_count[word] = 1\n",
    "\n",
    "# Find the word with the maximum count\n",
    "most_common_word = max(word_count, key=word_count.get)\n",
    "\n",
    "print(\"Most common word:\", most_common_word)\n",
    "print(\"Count:\", word_count[most_common_word])"
   ]
  },
  {
   "cell_type": "code",
   "execution_count": 34,
   "id": "5020a918",
   "metadata": {},
   "outputs": [
    {
     "data": {
      "text/plain": [
       "'NASA'"
      ]
     },
     "execution_count": 34,
     "metadata": {},
     "output_type": "execute_result"
    }
   ],
   "source": [
    "# Question 40: Generate acronym from \"National Aeronautics and Space Administration\"\n",
    "a = \"National Aeronautics and Space Administration\"\n",
    "word = a.split()\n",
    "\n",
    "ignor = ['and']\n",
    "\n",
    "acro = ''.join(i[0].upper() for i in word if i.lower() not in ignor)\n",
    "acro"
   ]
  },
  {
   "cell_type": "code",
   "execution_count": 35,
   "id": "d1162ab8",
   "metadata": {},
   "outputs": [
    {
     "name": "stdout",
     "output_type": "stream",
     "text": [
      "True\n"
     ]
    }
   ],
   "source": [
    "# Question 41: Check if string contains balanced parentheses: \"((()))\"\n",
    "new = \"((()))\"\n",
    "opened = new.count('(')\n",
    "closed = new.count(')')\n",
    "\n",
    "# check order and count\n",
    "balanced = opened == closed and new.find(')') > new.find('(')\n",
    "\n",
    "print(balanced)"
   ]
  },
  {
   "cell_type": "code",
   "execution_count": 36,
   "id": "f633e4f1",
   "metadata": {},
   "outputs": [
    {
     "name": "stdout",
     "output_type": "stream",
     "text": [
      ".... . .-.. .-.. --- / .-- --- .-. .-.. -..\n"
     ]
    }
   ],
   "source": [
    "# Question 42: Convert \"hello world\" to Morse code\n",
    "morse_dict = {\n",
    "    'A': '.-',    'B': '-...',  'C': '-.-.', 'D': '-..',   'E': '.',\n",
    "    'F': '..-.',  'G': '--.',   'H': '....', 'I': '..',    'J': '.---',\n",
    "    'K': '-.-',   'L': '.-..',  'M': '--',   'N': '-.',    'O': '---',\n",
    "    'P': '.--.',  'Q': '--.-',  'R': '.-.',  'S': '...',   'T': '-',\n",
    "    'U': '..-',   'V': '...-',  'W': '.--',  'X': '-..-',  'Y': '-.--',\n",
    "    'Z': '--..',\n",
    "    '0': '-----', '1': '.----', '2': '..---','3': '...--', '4': '....-',\n",
    "    '5': '.....', '6': '-....', '7': '--...', '8': '---..','9': '----.',\n",
    "    ' ': '/'\n",
    "}\n",
    "text = \"hello world\"\n",
    "morse_code = ' '.join(morse_dict[char.upper()] for char in text)\n",
    "\n",
    "print(morse_code)"
   ]
  },
  {
   "cell_type": "code",
   "execution_count": 37,
   "id": "688fb292",
   "metadata": {},
   "outputs": [
    {
     "name": "stdout",
     "output_type": "stream",
     "text": [
      "True\n"
     ]
    }
   ],
   "source": [
    "# Question 44: Check if string is a valid URL: \"https://www.google.com\"\n",
    "url = \"https://www.google.com\"\n",
    "new = url.startswith('http://') or url.startswith('https://') and '.' in url\n",
    "print(new)"
   ]
  }
 ],
 "metadata": {
  "kernelspec": {
   "display_name": "Python 3",
   "language": "python",
   "name": "python3"
  },
  "language_info": {
   "codemirror_mode": {
    "name": "ipython",
    "version": 3
   },
   "file_extension": ".py",
   "mimetype": "text/x-python",
   "name": "python",
   "nbconvert_exporter": "python",
   "pygments_lexer": "ipython3",
   "version": "3.13.5"
  }
 },
 "nbformat": 4,
 "nbformat_minor": 5
}
